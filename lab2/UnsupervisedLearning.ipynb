{
    "metadata": {
        "kernelspec": {
            "name": "python3",
            "display_name": "Python 3 (ipykernel)",
            "language": "python"
        }
    },
    "nbformat": 4,
    "nbformat_minor": 2,
    "cells": [
        {
            "attachments": {},
            "cell_type": "markdown",
            "metadata": {},
            "source": [
                "This code gives an introduction to unsupervised learning by solving a clustering problem using **K-Means Clustering** following [this tutorial](https://youtu.be/EItlUEPCIzM).\n",
                "\n",
                "Replace 'XLABEL' and 'YLABEL' with the respective labels in your data set."
            ]
        },
        {
            "attachments": {},
            "cell_type": "markdown",
            "metadata": {},
            "source": [
                "# Problem description\n",
                "Enter in the text cell below the clustering problem that you're about to work on. \n",
                "\n",
                "What is your X and Y label?"
            ]
        },
        {
            "attachments": {},
            "cell_type": "markdown",
            "metadata": {},
            "source": [
                ""
            ]
        },
        {
            "attachments": {},
            "cell_type": "markdown",
            "metadata": {},
            "source": [
                "Import packages"
            ]
        },
        {
            "cell_type": "code",
            "execution_count": 17,
            "metadata": {},
            "outputs": [],
            "source": [
                "from sklearn.cluster import KMeans\n",
                "import pandas as pd\n",
                "from sklearn.preprocessing import MinMaxScaler\n",
                "from matplotlib import pyplot as plt\n",
                "%matplotlib inline\n",
                ""
            ]
        },
        {
            "attachments": {},
            "cell_type": "markdown",
            "metadata": {},
            "source": [
                "Import and explore the data set"
            ]
        },
        {
            "cell_type": "code",
            "execution_count": 18,
            "metadata": {},
            "outputs": [],
            "source": [
                "df = pd.read_csv('cleanedfile.csv')"
            ]
        },
        {
            "attachments": {},
            "cell_type": "markdown",
            "metadata": {},
            "source": [
                "2. Display columns and describe the data set"
            ]
        },
        {
            "cell_type": "code",
            "execution_count": 19,
            "metadata": {},
            "outputs": [
                {
                    "data": {
                        "text/html": "\u003cdiv\u003e\n\u003cstyle scoped\u003e\n    .dataframe tbody tr th:only-of-type {\n        vertical-align: middle;\n    }\n\n    .dataframe tbody tr th {\n        vertical-align: top;\n    }\n\n    .dataframe thead th {\n        text-align: right;\n    }\n\u003c/style\u003e\n\u003ctable border=\"1\" class=\"dataframe\"\u003e\n  \u003cthead\u003e\n    \u003ctr style=\"text-align: right;\"\u003e\n      \u003cth\u003e\u003c/th\u003e\n      \u003cth\u003eUnnamed: 0\u003c/th\u003e\n      \u003cth\u003eseason\u003c/th\u003e\n      \u003cth\u003eweek_num\u003c/th\u003e\n      \u003cth\u003ehome_score\u003c/th\u003e\n      \u003cth\u003eaway_score\u003c/th\u003e\n      \u003cth\u003earrests\u003c/th\u003e\n    \u003c/tr\u003e\n  \u003c/thead\u003e\n  \u003ctbody\u003e\n    \u003ctr\u003e\n      \u003cth\u003ecount\u003c/th\u003e\n      \u003ctd\u003e56.000000\u003c/td\u003e\n      \u003ctd\u003e56.000000\u003c/td\u003e\n      \u003ctd\u003e56.000000\u003c/td\u003e\n      \u003ctd\u003e56.000000\u003c/td\u003e\n      \u003ctd\u003e56.000000\u003c/td\u003e\n      \u003ctd\u003e56.000000\u003c/td\u003e\n    \u003c/tr\u003e\n    \u003ctr\u003e\n      \u003cth\u003emean\u003c/th\u003e\n      \u003ctd\u003e464.714286\u003c/td\u003e\n      \u003ctd\u003e2012.821429\u003c/td\u003e\n      \u003ctd\u003e9.803571\u003c/td\u003e\n      \u003ctd\u003e24.035714\u003c/td\u003e\n      \u003ctd\u003e22.964286\u003c/td\u003e\n      \u003ctd\u003e7.017857\u003c/td\u003e\n    \u003c/tr\u003e\n    \u003ctr\u003e\n      \u003cth\u003estd\u003c/th\u003e\n      \u003ctd\u003e332.005516\u003c/td\u003e\n      \u003ctd\u003e1.363247\u003c/td\u003e\n      \u003ctd\u003e4.441210\u003c/td\u003e\n      \u003ctd\u003e7.258761\u003c/td\u003e\n      \u003ctd\u003e7.236183\u003c/td\u003e\n      \u003ctd\u003e10.370397\u003c/td\u003e\n    \u003c/tr\u003e\n    \u003ctr\u003e\n      \u003cth\u003emin\u003c/th\u003e\n      \u003ctd\u003e3.000000\u003c/td\u003e\n      \u003ctd\u003e2011.000000\u003c/td\u003e\n      \u003ctd\u003e1.000000\u003c/td\u003e\n      \u003ctd\u003e13.000000\u003c/td\u003e\n      \u003ctd\u003e10.000000\u003c/td\u003e\n      \u003ctd\u003e0.000000\u003c/td\u003e\n    \u003c/tr\u003e\n    \u003ctr\u003e\n      \u003cth\u003e25%\u003c/th\u003e\n      \u003ctd\u003e187.750000\u003c/td\u003e\n      \u003ctd\u003e2012.000000\u003c/td\u003e\n      \u003ctd\u003e6.750000\u003c/td\u003e\n      \u003ctd\u003e19.750000\u003c/td\u003e\n      \u003ctd\u003e17.000000\u003c/td\u003e\n      \u003ctd\u003e1.000000\u003c/td\u003e\n    \u003c/tr\u003e\n    \u003ctr\u003e\n      \u003cth\u003e50%\u003c/th\u003e\n      \u003ctd\u003e439.000000\u003c/td\u003e\n      \u003ctd\u003e2013.000000\u003c/td\u003e\n      \u003ctd\u003e10.000000\u003c/td\u003e\n      \u003ctd\u003e23.000000\u003c/td\u003e\n      \u003ctd\u003e23.000000\u003c/td\u003e\n      \u003ctd\u003e3.000000\u003c/td\u003e\n    \u003c/tr\u003e\n    \u003ctr\u003e\n      \u003cth\u003e75%\u003c/th\u003e\n      \u003ctd\u003e781.750000\u003c/td\u003e\n      \u003ctd\u003e2014.000000\u003c/td\u003e\n      \u003ctd\u003e13.000000\u003c/td\u003e\n      \u003ctd\u003e29.000000\u003c/td\u003e\n      \u003ctd\u003e26.250000\u003c/td\u003e\n      \u003ctd\u003e7.250000\u003c/td\u003e\n    \u003c/tr\u003e\n    \u003ctr\u003e\n      \u003cth\u003emax\u003c/th\u003e\n      \u003ctd\u003e985.000000\u003c/td\u003e\n      \u003ctd\u003e2015.000000\u003c/td\u003e\n      \u003ctd\u003e17.000000\u003c/td\u003e\n      \u003ctd\u003e44.000000\u003c/td\u003e\n      \u003ctd\u003e41.000000\u003c/td\u003e\n      \u003ctd\u003e41.000000\u003c/td\u003e\n    \u003c/tr\u003e\n  \u003c/tbody\u003e\n\u003c/table\u003e\n\u003c/div\u003e",
                        "text/plain": "       Unnamed: 0       season   week_num  home_score  away_score    arrests\ncount   56.000000    56.000000  56.000000   56.000000   56.000000  56.000000\nmean   464.714286  2012.821429   9.803571   24.035714   22.964286   7.017857\nstd    332.005516     1.363247   4.441210    7.258761    7.236183  10.370397\nmin      3.000000  2011.000000   1.000000   13.000000   10.000000   0.000000\n25%    187.750000  2012.000000   6.750000   19.750000   17.000000   1.000000\n50%    439.000000  2013.000000  10.000000   23.000000   23.000000   3.000000\n75%    781.750000  2014.000000  13.000000   29.000000   26.250000   7.250000\nmax    985.000000  2015.000000  17.000000   44.000000   41.000000  41.000000"
                    },
                    "execution_count": 19,
                    "metadata": {},
                    "output_type": "execute_result"
                }
            ],
            "source": [
                "df.describe()"
            ]
        },
        {
            "attachments": {},
            "cell_type": "markdown",
            "metadata": {},
            "source": [
                "Scatter plot"
            ]
        },
        {
            "cell_type": "code",
            "execution_count": 20,
            "metadata": {},
            "outputs": [
                {
                    "data": {
                        "text/plain": "Text(0, 0.5, 'away_score')"
                    },
                    "execution_count": 20,
                    "metadata": {},
                    "output_type": "execute_result"
                },
                {
                    "data": {
                        "image/png": "[encoded data removed]",
                        "text/plain": "\u003cFigure size 432x288 with 1 Axes\u003e"
                    },
                    "metadata": {
                        "needs_background": "light"
                    },
                    "output_type": "display_data"
                }
            ],
            "source": [
                "plt.scatter(df.home_score,df['away_score'])\n",
                "plt.xlabel('home_score')\n",
                "plt.ylabel('away_score')"
            ]
        },
        {
            "attachments": {},
            "cell_type": "markdown",
            "metadata": {},
            "source": [
                "Fit and predict three clusters for the data"
            ]
        },
        {
            "cell_type": "code",
            "execution_count": 21,
            "metadata": {},
            "outputs": [
                {
                    "data": {
                        "text/plain": "array([2, 2, 2, 0, 0, 2, 2, 1, 0, 0, 2, 2, 0, 1, 0, 0, 1, 2, 2, 1, 2, 0,\n       2, 0, 1, 0, 0, 2, 0, 2, 0, 0, 1, 0, 0, 0, 0, 0, 2, 0, 2, 2, 0, 0,\n       0, 1, 2, 0, 0, 2, 1, 2, 1, 0, 0, 0], dtype=int32)"
                    },
                    "execution_count": 21,
                    "metadata": {},
                    "output_type": "execute_result"
                }
            ],
            "source": [
                "km = KMeans(n_clusters=3)\n",
                "y_predicted = km.fit_predict(df[['home_score','away_score']])\n",
                "y_predicted"
            ]
        },
        {
            "cell_type": "code",
            "execution_count": 22,
            "metadata": {},
            "outputs": [
                {
                    "data": {
                        "text/html": "\u003cdiv\u003e\n\u003cstyle scoped\u003e\n    .dataframe tbody tr th:only-of-type {\n        vertical-align: middle;\n    }\n\n    .dataframe tbody tr th {\n        vertical-align: top;\n    }\n\n    .dataframe thead th {\n        text-align: right;\n    }\n\u003c/style\u003e\n\u003ctable border=\"1\" class=\"dataframe\"\u003e\n  \u003cthead\u003e\n    \u003ctr style=\"text-align: right;\"\u003e\n      \u003cth\u003e\u003c/th\u003e\n      \u003cth\u003eUnnamed: 0\u003c/th\u003e\n      \u003cth\u003eseason\u003c/th\u003e\n      \u003cth\u003eweek_num\u003c/th\u003e\n      \u003cth\u003eday_of_week\u003c/th\u003e\n      \u003cth\u003egametime_local\u003c/th\u003e\n      \u003cth\u003ehome_team\u003c/th\u003e\n      \u003cth\u003eaway_team\u003c/th\u003e\n      \u003cth\u003ehome_score\u003c/th\u003e\n      \u003cth\u003eaway_score\u003c/th\u003e\n      \u003cth\u003eOT_flag\u003c/th\u003e\n      \u003cth\u003earrests\u003c/th\u003e\n      \u003cth\u003edivision_game\u003c/th\u003e\n      \u003cth\u003ecluster\u003c/th\u003e\n    \u003c/tr\u003e\n  \u003c/thead\u003e\n  \u003ctbody\u003e\n    \u003ctr\u003e\n      \u003cth\u003e0\u003c/th\u003e\n      \u003ctd\u003e3\u003c/td\u003e\n      \u003ctd\u003e2011\u003c/td\u003e\n      \u003ctd\u003e9\u003c/td\u003e\n      \u003ctd\u003eSunday\u003c/td\u003e\n      \u003ctd\u003e2:15:00 PM\u003c/td\u003e\n      \u003ctd\u003eArizona\u003c/td\u003e\n      \u003ctd\u003eSt. Louis\u003c/td\u003e\n      \u003ctd\u003e19\u003c/td\u003e\n      \u003ctd\u003e13\u003c/td\u003e\n      \u003ctd\u003eOT\u003c/td\u003e\n      \u003ctd\u003e6.0\u003c/td\u003e\n      \u003ctd\u003ey\u003c/td\u003e\n      \u003ctd\u003e2\u003c/td\u003e\n    \u003c/tr\u003e\n    \u003ctr\u003e\n      \u003cth\u003e1\u003c/th\u003e\n      \u003ctd\u003e4\u003c/td\u003e\n      \u003ctd\u003e2011\u003c/td\u003e\n      \u003ctd\u003e13\u003c/td\u003e\n      \u003ctd\u003eSunday\u003c/td\u003e\n      \u003ctd\u003e2:15:00 PM\u003c/td\u003e\n      \u003ctd\u003eArizona\u003c/td\u003e\n      \u003ctd\u003eDallas\u003c/td\u003e\n      \u003ctd\u003e19\u003c/td\u003e\n      \u003ctd\u003e13\u003c/td\u003e\n      \u003ctd\u003eOT\u003c/td\u003e\n      \u003ctd\u003e3.0\u003c/td\u003e\n      \u003ctd\u003en\u003c/td\u003e\n      \u003ctd\u003e2\u003c/td\u003e\n    \u003c/tr\u003e\n    \u003ctr\u003e\n      \u003cth\u003e2\u003c/th\u003e\n      \u003ctd\u003e6\u003c/td\u003e\n      \u003ctd\u003e2011\u003c/td\u003e\n      \u003ctd\u003e15\u003c/td\u003e\n      \u003ctd\u003eSunday\u003c/td\u003e\n      \u003ctd\u003e2:15:00 PM\u003c/td\u003e\n      \u003ctd\u003eArizona\u003c/td\u003e\n      \u003ctd\u003eCleveland\u003c/td\u003e\n      \u003ctd\u003e20\u003c/td\u003e\n      \u003ctd\u003e17\u003c/td\u003e\n      \u003ctd\u003eOT\u003c/td\u003e\n      \u003ctd\u003e1.0\u003c/td\u003e\n      \u003ctd\u003en\u003c/td\u003e\n      \u003ctd\u003e2\u003c/td\u003e\n    \u003c/tr\u003e\n    \u003ctr\u003e\n      \u003cth\u003e3\u003c/th\u003e\n      \u003ctd\u003e7\u003c/td\u003e\n      \u003ctd\u003e2011\u003c/td\u003e\n      \u003ctd\u003e17\u003c/td\u003e\n      \u003ctd\u003eSunday\u003c/td\u003e\n      \u003ctd\u003e2:15:00 PM\u003c/td\u003e\n      \u003ctd\u003eArizona\u003c/td\u003e\n      \u003ctd\u003eSeattle\u003c/td\u003e\n      \u003ctd\u003e23\u003c/td\u003e\n      \u003ctd\u003e20\u003c/td\u003e\n      \u003ctd\u003eOT\u003c/td\u003e\n      \u003ctd\u003e4.0\u003c/td\u003e\n      \u003ctd\u003ey\u003c/td\u003e\n      \u003ctd\u003e0\u003c/td\u003e\n    \u003c/tr\u003e\n    \u003ctr\u003e\n      \u003cth\u003e4\u003c/th\u003e\n      \u003ctd\u003e10\u003c/td\u003e\n      \u003ctd\u003e2012\u003c/td\u003e\n      \u003ctd\u003e4\u003c/td\u003e\n      \u003ctd\u003eSunday\u003c/td\u003e\n      \u003ctd\u003e1:05:00 PM\u003c/td\u003e\n      \u003ctd\u003eArizona\u003c/td\u003e\n      \u003ctd\u003eMiami\u003c/td\u003e\n      \u003ctd\u003e24\u003c/td\u003e\n      \u003ctd\u003e21\u003c/td\u003e\n      \u003ctd\u003eOT\u003c/td\u003e\n      \u003ctd\u003e4.0\u003c/td\u003e\n      \u003ctd\u003en\u003c/td\u003e\n      \u003ctd\u003e0\u003c/td\u003e\n    \u003c/tr\u003e\n  \u003c/tbody\u003e\n\u003c/table\u003e\n\u003c/div\u003e",
                        "text/plain": "   Unnamed: 0  season  week_num day_of_week gametime_local home_team  \\\n0           3    2011         9      Sunday     2:15:00 PM   Arizona   \n1           4    2011        13      Sunday     2:15:00 PM   Arizona   \n2           6    2011        15      Sunday     2:15:00 PM   Arizona   \n3           7    2011        17      Sunday     2:15:00 PM   Arizona   \n4          10    2012         4      Sunday     1:05:00 PM   Arizona   \n\n   away_team  home_score  away_score OT_flag  arrests division_game  cluster  \n0  St. Louis          19          13      OT      6.0             y        2  \n1     Dallas          19          13      OT      3.0             n        2  \n2  Cleveland          20          17      OT      1.0             n        2  \n3    Seattle          23          20      OT      4.0             y        0  \n4      Miami          24          21      OT      4.0             n        0  "
                    },
                    "execution_count": 22,
                    "metadata": {},
                    "output_type": "execute_result"
                }
            ],
            "source": [
                "df['cluster']=y_predicted\n",
                "df.head()"
            ]
        },
        {
            "cell_type": "code",
            "execution_count": 23,
            "metadata": {},
            "outputs": [
                {
                    "data": {
                        "text/plain": "array([[25.17857143, 23.71428571],\n       [35.33333333, 35.66666667],\n       [17.        , 15.84210526]])"
                    },
                    "execution_count": 23,
                    "metadata": {},
                    "output_type": "execute_result"
                }
            ],
            "source": [
                "km.cluster_centers_"
            ]
        },
        {
            "cell_type": "code",
            "execution_count": 24,
            "metadata": {},
            "outputs": [
                {
                    "data": {
                        "text/plain": "\u003cmatplotlib.legend.Legend at 0x7f5142a88b50\u003e"
                    },
                    "execution_count": 24,
                    "metadata": {},
                    "output_type": "execute_result"
                },
                {
                    "data": {
                        "image/png": "[encoded data removed]",
                        "text/plain": "\u003cFigure size 432x288 with 1 Axes\u003e"
                    },
                    "metadata": {
                        "needs_background": "light"
                    },
                    "output_type": "display_data"
                }
            ],
            "source": [
                "df1 = df[df.cluster==0]\n",
                "df2 = df[df.cluster==1]\n",
                "df3 = df[df.cluster==2]\n",
                "plt.scatter(df1.home_score,df1['away_score'],color='green')\n",
                "plt.scatter(df2.home_score,df2['away_score'],color='red')\n",
                "plt.scatter(df3.home_score,df3['away_score'],color='black')\n",
                "plt.scatter(km.cluster_centers_[:,0],km.cluster_centers_[:,1],color='purple',marker='*',label='centroid')\n",
                "plt.xlabel('home_score')\n",
                "plt.ylabel('away_score')\n",
                "plt.legend()"
            ]
        },
        {
            "attachments": {},
            "cell_type": "markdown",
            "metadata": {},
            "source": [
                "Fit the model using MinMaxScaler()"
            ]
        },
        {
            "cell_type": "code",
            "execution_count": 25,
            "metadata": {},
            "outputs": [],
            "source": [
                "scaler = MinMaxScaler()\n",
                "\n",
                "scaler.fit(df[['away_score']])\n",
                "df['away_score'] = scaler.transform(df[['away_score']])\n",
                "\n",
                "scaler.fit(df[['home_score']])\n",
                "df['home_score'] = scaler.transform(df[['home_score']])"
            ]
        },
        {
            "cell_type": "code",
            "execution_count": 26,
            "metadata": {},
            "outputs": [
                {
                    "data": {
                        "text/plain": "\u003cmatplotlib.collections.PathCollection at 0x7f5142a082b0\u003e"
                    },
                    "execution_count": 26,
                    "metadata": {},
                    "output_type": "execute_result"
                },
                {
                    "data": {
                        "image/png": "[encoded data removed]",
                        "text/plain": "\u003cFigure size 432x288 with 1 Axes\u003e"
                    },
                    "metadata": {
                        "needs_background": "light"
                    },
                    "output_type": "display_data"
                }
            ],
            "source": [
                "plt.scatter(df.home_score,df['away_score'])"
            ]
        },
        {
            "cell_type": "code",
            "execution_count": 27,
            "metadata": {},
            "outputs": [
                {
                    "data": {
                        "text/plain": "array([0, 0, 0, 2, 2, 0, 0, 1, 2, 2, 0, 0, 2, 1, 2, 2, 1, 0, 0, 1, 0, 2,\n       0, 2, 1, 2, 2, 0, 2, 0, 2, 2, 1, 2, 2, 2, 2, 2, 0, 2, 0, 0, 2, 2,\n       2, 1, 0, 2, 2, 0, 1, 0, 1, 2, 2, 2], dtype=int32)"
                    },
                    "execution_count": 27,
                    "metadata": {},
                    "output_type": "execute_result"
                }
            ],
            "source": [
                "km = KMeans(n_clusters=3)\n",
                "y_predicted = km.fit_predict(df[['home_score','away_score']])\n",
                "y_predicted"
            ]
        },
        {
            "cell_type": "code",
            "execution_count": 28,
            "metadata": {},
            "outputs": [
                {
                    "data": {
                        "text/html": "\u003cdiv\u003e\n\u003cstyle scoped\u003e\n    .dataframe tbody tr th:only-of-type {\n        vertical-align: middle;\n    }\n\n    .dataframe tbody tr th {\n        vertical-align: top;\n    }\n\n    .dataframe thead th {\n        text-align: right;\n    }\n\u003c/style\u003e\n\u003ctable border=\"1\" class=\"dataframe\"\u003e\n  \u003cthead\u003e\n    \u003ctr style=\"text-align: right;\"\u003e\n      \u003cth\u003e\u003c/th\u003e\n      \u003cth\u003eUnnamed: 0\u003c/th\u003e\n      \u003cth\u003eseason\u003c/th\u003e\n      \u003cth\u003eweek_num\u003c/th\u003e\n      \u003cth\u003eday_of_week\u003c/th\u003e\n      \u003cth\u003egametime_local\u003c/th\u003e\n      \u003cth\u003ehome_team\u003c/th\u003e\n      \u003cth\u003eaway_team\u003c/th\u003e\n      \u003cth\u003ehome_score\u003c/th\u003e\n      \u003cth\u003eaway_score\u003c/th\u003e\n      \u003cth\u003eOT_flag\u003c/th\u003e\n      \u003cth\u003earrests\u003c/th\u003e\n      \u003cth\u003edivision_game\u003c/th\u003e\n      \u003cth\u003ecluster\u003c/th\u003e\n    \u003c/tr\u003e\n  \u003c/thead\u003e\n  \u003ctbody\u003e\n    \u003ctr\u003e\n      \u003cth\u003e0\u003c/th\u003e\n      \u003ctd\u003e3\u003c/td\u003e\n      \u003ctd\u003e2011\u003c/td\u003e\n      \u003ctd\u003e9\u003c/td\u003e\n      \u003ctd\u003eSunday\u003c/td\u003e\n      \u003ctd\u003e2:15:00 PM\u003c/td\u003e\n      \u003ctd\u003eArizona\u003c/td\u003e\n      \u003ctd\u003eSt. Louis\u003c/td\u003e\n      \u003ctd\u003e0.193548\u003c/td\u003e\n      \u003ctd\u003e0.096774\u003c/td\u003e\n      \u003ctd\u003eOT\u003c/td\u003e\n      \u003ctd\u003e6.0\u003c/td\u003e\n      \u003ctd\u003ey\u003c/td\u003e\n      \u003ctd\u003e0\u003c/td\u003e\n    \u003c/tr\u003e\n    \u003ctr\u003e\n      \u003cth\u003e1\u003c/th\u003e\n      \u003ctd\u003e4\u003c/td\u003e\n      \u003ctd\u003e2011\u003c/td\u003e\n      \u003ctd\u003e13\u003c/td\u003e\n      \u003ctd\u003eSunday\u003c/td\u003e\n      \u003ctd\u003e2:15:00 PM\u003c/td\u003e\n      \u003ctd\u003eArizona\u003c/td\u003e\n      \u003ctd\u003eDallas\u003c/td\u003e\n      \u003ctd\u003e0.193548\u003c/td\u003e\n      \u003ctd\u003e0.096774\u003c/td\u003e\n      \u003ctd\u003eOT\u003c/td\u003e\n      \u003ctd\u003e3.0\u003c/td\u003e\n      \u003ctd\u003en\u003c/td\u003e\n      \u003ctd\u003e0\u003c/td\u003e\n    \u003c/tr\u003e\n    \u003ctr\u003e\n      \u003cth\u003e2\u003c/th\u003e\n      \u003ctd\u003e6\u003c/td\u003e\n      \u003ctd\u003e2011\u003c/td\u003e\n      \u003ctd\u003e15\u003c/td\u003e\n      \u003ctd\u003eSunday\u003c/td\u003e\n      \u003ctd\u003e2:15:00 PM\u003c/td\u003e\n      \u003ctd\u003eArizona\u003c/td\u003e\n      \u003ctd\u003eCleveland\u003c/td\u003e\n      \u003ctd\u003e0.225806\u003c/td\u003e\n      \u003ctd\u003e0.225806\u003c/td\u003e\n      \u003ctd\u003eOT\u003c/td\u003e\n      \u003ctd\u003e1.0\u003c/td\u003e\n      \u003ctd\u003en\u003c/td\u003e\n      \u003ctd\u003e0\u003c/td\u003e\n    \u003c/tr\u003e\n    \u003ctr\u003e\n      \u003cth\u003e3\u003c/th\u003e\n      \u003ctd\u003e7\u003c/td\u003e\n      \u003ctd\u003e2011\u003c/td\u003e\n      \u003ctd\u003e17\u003c/td\u003e\n      \u003ctd\u003eSunday\u003c/td\u003e\n      \u003ctd\u003e2:15:00 PM\u003c/td\u003e\n      \u003ctd\u003eArizona\u003c/td\u003e\n      \u003ctd\u003eSeattle\u003c/td\u003e\n      \u003ctd\u003e0.322581\u003c/td\u003e\n      \u003ctd\u003e0.322581\u003c/td\u003e\n      \u003ctd\u003eOT\u003c/td\u003e\n      \u003ctd\u003e4.0\u003c/td\u003e\n      \u003ctd\u003ey\u003c/td\u003e\n      \u003ctd\u003e2\u003c/td\u003e\n    \u003c/tr\u003e\n    \u003ctr\u003e\n      \u003cth\u003e4\u003c/th\u003e\n      \u003ctd\u003e10\u003c/td\u003e\n      \u003ctd\u003e2012\u003c/td\u003e\n      \u003ctd\u003e4\u003c/td\u003e\n      \u003ctd\u003eSunday\u003c/td\u003e\n      \u003ctd\u003e1:05:00 PM\u003c/td\u003e\n      \u003ctd\u003eArizona\u003c/td\u003e\n      \u003ctd\u003eMiami\u003c/td\u003e\n      \u003ctd\u003e0.354839\u003c/td\u003e\n      \u003ctd\u003e0.354839\u003c/td\u003e\n      \u003ctd\u003eOT\u003c/td\u003e\n      \u003ctd\u003e4.0\u003c/td\u003e\n      \u003ctd\u003en\u003c/td\u003e\n      \u003ctd\u003e2\u003c/td\u003e\n    \u003c/tr\u003e\n  \u003c/tbody\u003e\n\u003c/table\u003e\n\u003c/div\u003e",
                        "text/plain": "   Unnamed: 0  season  week_num day_of_week gametime_local home_team  \\\n0           3    2011         9      Sunday     2:15:00 PM   Arizona   \n1           4    2011        13      Sunday     2:15:00 PM   Arizona   \n2           6    2011        15      Sunday     2:15:00 PM   Arizona   \n3           7    2011        17      Sunday     2:15:00 PM   Arizona   \n4          10    2012         4      Sunday     1:05:00 PM   Arizona   \n\n   away_team  home_score  away_score OT_flag  arrests division_game  cluster  \n0  St. Louis    0.193548    0.096774      OT      6.0             y        0  \n1     Dallas    0.193548    0.096774      OT      3.0             n        0  \n2  Cleveland    0.225806    0.225806      OT      1.0             n        0  \n3    Seattle    0.322581    0.322581      OT      4.0             y        2  \n4      Miami    0.354839    0.354839      OT      4.0             n        2  "
                    },
                    "execution_count": 28,
                    "metadata": {},
                    "output_type": "execute_result"
                }
            ],
            "source": [
                "df['cluster']=y_predicted\n",
                "df.head()"
            ]
        },
        {
            "cell_type": "code",
            "execution_count": 29,
            "metadata": {},
            "outputs": [
                {
                    "data": {
                        "text/plain": "array([[0.12903226, 0.18845501],\n       [0.72043011, 0.82795699],\n       [0.39285714, 0.44239631]])"
                    },
                    "execution_count": 29,
                    "metadata": {},
                    "output_type": "execute_result"
                }
            ],
            "source": [
                "km.cluster_centers_"
            ]
        },
        {
            "cell_type": "code",
            "execution_count": 30,
            "metadata": {},
            "outputs": [
                {
                    "data": {
                        "text/plain": "\u003cmatplotlib.legend.Legend at 0x7f5142974af0\u003e"
                    },
                    "execution_count": 30,
                    "metadata": {},
                    "output_type": "execute_result"
                },
                {
                    "data": {
                        "image/png": "[encoded data removed]",
                        "text/plain": "\u003cFigure size 432x288 with 1 Axes\u003e"
                    },
                    "metadata": {
                        "needs_background": "light"
                    },
                    "output_type": "display_data"
                }
            ],
            "source": [
                "df1 = df[df.cluster==0]\n",
                "df2 = df[df.cluster==1]\n",
                "df3 = df[df.cluster==2]\n",
                "plt.scatter(df1.home_score,df1['away_score'],color='green')\n",
                "plt.scatter(df2.home_score,df2['away_score'],color='red')\n",
                "plt.scatter(df3.home_score,df3['away_score'],color='black')\n",
                "plt.scatter(km.cluster_centers_[:,0],km.cluster_centers_[:,1],color='purple',marker='*',label='centroid')\n",
                "plt.legend()"
            ]
        },
        {
            "cell_type": "code",
            "execution_count": 31,
            "metadata": {},
            "outputs": [],
            "source": [
                "sse = []\n",
                "k_rng = range(1,10)\n",
                "for k in k_rng:\n",
                "    km = KMeans(n_clusters=k)\n",
                "    km.fit(df[['home_score','away_score']])\n",
                "    sse.append(km.inertia_)"
            ]
        },
        {
            "cell_type": "code",
            "execution_count": 32,
            "metadata": {},
            "outputs": [
                {
                    "data": {
                        "text/plain": "[\u003cmatplotlib.lines.Line2D at 0x7f51428f7610\u003e]"
                    },
                    "execution_count": 32,
                    "metadata": {},
                    "output_type": "execute_result"
                },
                {
                    "data": {
                        "image/png": "[encoded data removed]",
                        "text/plain": "\u003cFigure size 432x288 with 1 Axes\u003e"
                    },
                    "metadata": {
                        "needs_background": "light"
                    },
                    "output_type": "display_data"
                }
            ],
            "source": [
                "plt.xlabel('K')\n",
                "plt.ylabel('Sum of squared error')\n",
                "plt.plot(k_rng,sse)"
            ]
        }
    ]
}
